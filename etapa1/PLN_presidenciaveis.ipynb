<!DOCTYPE html>
<html lang="pt-br">
<head>
  <meta charset="UTF-8">
  <meta name="viewport" content="width=device-width, initial-scale=1.0">
  <title>Projeto de PLN</title>
</head>
<body>
  <h1>Projeto de Processamento de Linguagem Natural (PLN) - Etapa 1</h1>
  <h2>Preparação para Análise de Sentimento com Tweets dos Presidenciáveis de 2023</h2>
  <h3>Objetivo:</h3>
  <p>O objetivo desta etapa do projeto é realizar a raspagem, carregamento e pré-processamento dos dados dos tweets dos presidenciáveis de 2023 para posterior análise de sentimento.</p>
  <h3>Passos:</h3>
  <ol>
    <li><strong>Raspagem de Dados:</strong> Utilização de ferramentas de web scraping para coletar os tweets dos presidenciáveis.</li>
    <li><strong>Carregamento de Dados:</strong> Carregar os dados coletados para um ambiente de análise, como um notebook Jupyter.</li>
    <li><strong>Pré-processamento de Dados:</strong> Limpar e preparar os dados para análise de sentimento, incluindo remoção de stopwords, tokenização, normalização de texto, entre outros.</li>
  </ol>
  <h3>Tecnologias Utilizadas:</h3>
  <ul>
    <li>Python</li>
    <li>Jupyter Notebook</li>
    <li>Bibliotecas de PLN, como NLTK, SpaCy, ou TextBlob</li>
    <li>Ferramentas de Web Scraping, como BeautifulSoup ou Scrapy</li>
  </ul>
  <h3>Referências:</h3>
  <ul>
    <li>Documentação oficial das bibliotecas utilizadas</li>
    <li>Tutoriais online sobre raspagem de dados e pré-processamento de texto</li>
  </ul>
  <h3>Execução do Notebook:</h3>
  <ol>
    <li>Instale as bibliotecas necessárias:</li>
    <pre><code>pip install nltk spacy beautifulsoup4</code></pre>
    <li>Execute o notebook Jupyter:</li>
    <pre><code>jupyter notebook notebook_etapa1.ipynb</code></pre>
  </ol>
  <h3>Contribuição:</h3>
  <p>Contribuições são bem-vindas! Sinta-se à vontade para enviar pull requests com melhorias ou correções.</p>
  <h3>Licença:</h3>
  <p>Este projeto é distribuído sob a licença MIT. Consulte o arquivo <code>LICENSE</code> para obter mais informações.</p>
</body>
</html>
